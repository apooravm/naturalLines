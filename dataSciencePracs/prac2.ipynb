{
 "cells": [
  {
   "cell_type": "code",
   "execution_count": 5,
   "id": "7e276ed7",
   "metadata": {},
   "outputs": [],
   "source": [
    "import numpy as np"
   ]
  },
  {
   "cell_type": "code",
   "execution_count": 6,
   "id": "a1245b53",
   "metadata": {},
   "outputs": [],
   "source": [
    "import pandas as pd"
   ]
  },
  {
   "cell_type": "code",
   "execution_count": 7,
   "id": "2cd1ab1b",
   "metadata": {},
   "outputs": [],
   "source": [
    "from scipy import stats"
   ]
  },
  {
   "cell_type": "code",
   "execution_count": 8,
   "id": "ef5fdc91",
   "metadata": {},
   "outputs": [],
   "source": [
    "df=pd.read_csv(\"prac1.csv\")"
   ]
  },
  {
   "cell_type": "code",
   "execution_count": 9,
   "id": "561c3117",
   "metadata": {},
   "outputs": [
    {
     "data": {
      "text/html": [
       "<div>\n",
       "<style scoped>\n",
       "    .dataframe tbody tr th:only-of-type {\n",
       "        vertical-align: middle;\n",
       "    }\n",
       "\n",
       "    .dataframe tbody tr th {\n",
       "        vertical-align: top;\n",
       "    }\n",
       "\n",
       "    .dataframe thead th {\n",
       "        text-align: right;\n",
       "    }\n",
       "</style>\n",
       "<table border=\"1\" class=\"dataframe\">\n",
       "  <thead>\n",
       "    <tr style=\"text-align: right;\">\n",
       "      <th></th>\n",
       "      <th>Name</th>\n",
       "      <th>Rollno</th>\n",
       "      <th>Internet of Thing</th>\n",
       "      <th>Full stack Web Development</th>\n",
       "      <th>Android Development</th>\n",
       "      <th>Data Analytics</th>\n",
       "      <th>Project</th>\n",
       "      <th>Total</th>\n",
       "    </tr>\n",
       "  </thead>\n",
       "  <tbody>\n",
       "    <tr>\n",
       "      <th>0</th>\n",
       "      <td>akash</td>\n",
       "      <td>1</td>\n",
       "      <td>110</td>\n",
       "      <td>34</td>\n",
       "      <td>45</td>\n",
       "      <td>54</td>\n",
       "      <td>78</td>\n",
       "      <td>321</td>\n",
       "    </tr>\n",
       "    <tr>\n",
       "      <th>1</th>\n",
       "      <td>elon musk</td>\n",
       "      <td>2</td>\n",
       "      <td>83</td>\n",
       "      <td>34</td>\n",
       "      <td>67</td>\n",
       "      <td>23</td>\n",
       "      <td>56</td>\n",
       "      <td>263</td>\n",
       "    </tr>\n",
       "    <tr>\n",
       "      <th>2</th>\n",
       "      <td>mark</td>\n",
       "      <td>3</td>\n",
       "      <td>76</td>\n",
       "      <td>23</td>\n",
       "      <td>54</td>\n",
       "      <td>54</td>\n",
       "      <td>23</td>\n",
       "      <td>230</td>\n",
       "    </tr>\n",
       "    <tr>\n",
       "      <th>3</th>\n",
       "      <td>jeff</td>\n",
       "      <td>4</td>\n",
       "      <td>45</td>\n",
       "      <td>76</td>\n",
       "      <td>23</td>\n",
       "      <td>67</td>\n",
       "      <td>87</td>\n",
       "      <td>298</td>\n",
       "    </tr>\n",
       "    <tr>\n",
       "      <th>4</th>\n",
       "      <td>chris</td>\n",
       "      <td>5</td>\n",
       "      <td>87</td>\n",
       "      <td>32</td>\n",
       "      <td>42</td>\n",
       "      <td>85</td>\n",
       "      <td>35</td>\n",
       "      <td>281</td>\n",
       "    </tr>\n",
       "  </tbody>\n",
       "</table>\n",
       "</div>"
      ],
      "text/plain": [
       "        Name  Rollno  Internet of Thing  Full stack Web Development  \\\n",
       "0      akash       1                110                          34   \n",
       "1  elon musk       2                 83                          34   \n",
       "2      mark        3                 76                          23   \n",
       "3       jeff       4                 45                          76   \n",
       "4      chris       5                 87                          32   \n",
       "\n",
       "   Android Development  Data Analytics  Project  Total  \n",
       "0                   45              54       78    321  \n",
       "1                   67              23       56    263  \n",
       "2                   54              54       23    230  \n",
       "3                   23              67       87    298  \n",
       "4                   42              85       35    281  "
      ]
     },
     "execution_count": 9,
     "metadata": {},
     "output_type": "execute_result"
    }
   ],
   "source": [
    "df.head(5)"
   ]
  },
  {
   "cell_type": "code",
   "execution_count": 10,
   "id": "5de36868",
   "metadata": {},
   "outputs": [
    {
     "name": "stdout",
     "output_type": "stream",
     "text": [
      "mean : 335.2448979591837\n"
     ]
    }
   ],
   "source": [
    "print(\"mean :\" , df[\"Internet of Thing\"].mean())"
   ]
  },
  {
   "cell_type": "code",
   "execution_count": 11,
   "id": "aed3b5c5",
   "metadata": {},
   "outputs": [
    {
     "name": "stdout",
     "output_type": "stream",
     "text": [
      "median:  74.0\n"
     ]
    }
   ],
   "source": [
    "print(\"median: \" , df[\"Internet of Thing\"].median())"
   ]
  },
  {
   "cell_type": "code",
   "execution_count": 12,
   "id": "7a389f0f",
   "metadata": {},
   "outputs": [
    {
     "name": "stdout",
     "output_type": "stream",
     "text": [
      "mode : ModeResult(mode=array([56]), count=array([4]))\n"
     ]
    }
   ],
   "source": [
    "print(\"mode :\", stats.mode(df[\"Internet of Thing\"]))"
   ]
  },
  {
   "cell_type": "code",
   "execution_count": 13,
   "id": "13d3b458",
   "metadata": {},
   "outputs": [
    {
     "name": "stdout",
     "output_type": "stream",
     "text": [
      "std : 869.6544939086501\n"
     ]
    }
   ],
   "source": [
    "print(\"std :\" , df[\"Internet of Thing\"].std())"
   ]
  },
  {
   "cell_type": "code",
   "execution_count": null,
   "id": "9898e703",
   "metadata": {},
   "outputs": [],
   "source": []
  }
 ],
 "metadata": {
  "kernelspec": {
   "display_name": "Python 3 (ipykernel)",
   "language": "python",
   "name": "python3"
  },
  "language_info": {
   "codemirror_mode": {
    "name": "ipython",
    "version": 3
   },
   "file_extension": ".py",
   "mimetype": "text/x-python",
   "name": "python",
   "nbconvert_exporter": "python",
   "pygments_lexer": "ipython3",
   "version": "3.9.7"
  }
 },
 "nbformat": 4,
 "nbformat_minor": 5
}
